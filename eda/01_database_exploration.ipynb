{
 "cells": [
  {
   "cell_type": "code",
   "id": "b1a16da6-c3d4-44da-a792-580cc114caf5",
   "metadata": {
    "ExecuteTime": {
     "end_time": "2025-04-01T06:40:01.458748Z",
     "start_time": "2025-04-01T06:40:01.446780Z"
    }
   },
   "source": [
    "# Importar librerias"
   ],
   "outputs": [],
   "execution_count": 38
  },
  {
   "cell_type": "code",
   "id": "4732eae8-ec2b-4563-a255-0e3deb1fd752",
   "metadata": {
    "ExecuteTime": {
     "end_time": "2025-04-01T06:40:01.489470Z",
     "start_time": "2025-04-01T06:40:01.478352Z"
    }
   },
   "source": [
    "import pandas as pd\n",
    "from sqlalchemy import create_engine\n",
    "import os\n",
    "from dotenv import load_dotenv"
   ],
   "outputs": [],
   "execution_count": 39
  },
  {
   "cell_type": "code",
   "id": "095fd372-b217-4510-8c8a-337b0111e476",
   "metadata": {
    "ExecuteTime": {
     "end_time": "2025-04-01T06:40:01.535428Z",
     "start_time": "2025-04-01T06:40:01.521516Z"
    }
   },
   "source": [
    "# Cargar variables de entorno\n",
    "load_dotenv()\n",
    "db_url = os.getenv(\"DATABASE_URL\")"
   ],
   "outputs": [],
   "execution_count": 40
  },
  {
   "cell_type": "code",
   "id": "04020660-81d5-4915-b42c-f5ef09457d98",
   "metadata": {
    "ExecuteTime": {
     "end_time": "2025-04-01T06:40:28.711354Z",
     "start_time": "2025-04-01T06:40:28.700522Z"
    }
   },
   "source": [
    "# Conexión de la base de datos\n",
    "engine = create_engine(db_url)"
   ],
   "outputs": [],
   "execution_count": 55
  },
  {
   "metadata": {},
   "cell_type": "markdown",
   "source": "### Tablas disponibles",
   "id": "e2aba52e546b1d4a"
  },
  {
   "cell_type": "code",
   "id": "5a6dab9d-21cb-45a7-99b6-18596e32a005",
   "metadata": {
    "ExecuteTime": {
     "end_time": "2025-04-01T06:40:01.863724Z",
     "start_time": "2025-04-01T06:40:01.678867Z"
    }
   },
   "source": [
    "query = \"\"\"\n",
    "SELECT table_name\n",
    "FROM information_schema.tables\n",
    "WHERE table_schema = 'public'\n",
    "\"\"\"\n",
    "tablas = pd.read_sql(query, con=engine)\n",
    "\n",
    "print(\"Tablas en la base de datos\")\n",
    "display(tablas)"
   ],
   "outputs": [
    {
     "name": "stdout",
     "output_type": "stream",
     "text": [
      "Tablas en la base de datos\n"
     ]
    },
    {
     "data": {
      "text/plain": [
       "    table_name\n",
       "0       tiempo\n",
       "1       ventas\n",
       "2       envios\n",
       "3     clientes\n",
       "4    productos\n",
       "5  proveedores"
      ],
      "text/html": [
       "<div>\n",
       "<style scoped>\n",
       "    .dataframe tbody tr th:only-of-type {\n",
       "        vertical-align: middle;\n",
       "    }\n",
       "\n",
       "    .dataframe tbody tr th {\n",
       "        vertical-align: top;\n",
       "    }\n",
       "\n",
       "    .dataframe thead th {\n",
       "        text-align: right;\n",
       "    }\n",
       "</style>\n",
       "<table border=\"1\" class=\"dataframe\">\n",
       "  <thead>\n",
       "    <tr style=\"text-align: right;\">\n",
       "      <th></th>\n",
       "      <th>table_name</th>\n",
       "    </tr>\n",
       "  </thead>\n",
       "  <tbody>\n",
       "    <tr>\n",
       "      <th>0</th>\n",
       "      <td>tiempo</td>\n",
       "    </tr>\n",
       "    <tr>\n",
       "      <th>1</th>\n",
       "      <td>ventas</td>\n",
       "    </tr>\n",
       "    <tr>\n",
       "      <th>2</th>\n",
       "      <td>envios</td>\n",
       "    </tr>\n",
       "    <tr>\n",
       "      <th>3</th>\n",
       "      <td>clientes</td>\n",
       "    </tr>\n",
       "    <tr>\n",
       "      <th>4</th>\n",
       "      <td>productos</td>\n",
       "    </tr>\n",
       "    <tr>\n",
       "      <th>5</th>\n",
       "      <td>proveedores</td>\n",
       "    </tr>\n",
       "  </tbody>\n",
       "</table>\n",
       "</div>"
      ]
     },
     "metadata": {},
     "output_type": "display_data"
    }
   ],
   "execution_count": 45
  },
  {
   "metadata": {},
   "cell_type": "markdown",
   "source": "### Características de las tablas",
   "id": "9ae98aabed083769"
  },
  {
   "cell_type": "code",
   "id": "e490372c-2e59-4e26-82f5-ed0098f79370",
   "metadata": {
    "ExecuteTime": {
     "end_time": "2025-04-01T06:40:02.005626Z",
     "start_time": "2025-04-01T06:40:01.923849Z"
    }
   },
   "source": [
    "for table in tablas[\"table_name\"]:\n",
    "    print(f\"\\nEstructura de la tabla {table}\")\n",
    "    query = f\"\"\"\n",
    "    SELECT column_name, data_type, character_maximum_length\n",
    "    FROM information_schema.columns\n",
    "    WHERE table_name = '{table}'\n",
    "    \"\"\"\n",
    "    estructura = pd.read_sql(query, con=engine)\n",
    "    display(estructura)"
   ],
   "outputs": [
    {
     "name": "stdout",
     "output_type": "stream",
     "text": [
      "\n",
      "Estructura de la tabla tiempo\n"
     ]
    },
    {
     "data": {
      "text/plain": [
       "  column_name data_type character_maximum_length\n",
       "0         día    bigint                     None\n",
       "1        anio    bigint                     None\n",
       "2         mes    bigint                     None\n",
       "3  día_nombre      text                     None\n",
       "4   tiempo_id      text                     None\n",
       "5  mes_nombre      text                     None\n",
       "6       fecha      text                     None\n",
       "7        hora      text                     None"
      ],
      "text/html": [
       "<div>\n",
       "<style scoped>\n",
       "    .dataframe tbody tr th:only-of-type {\n",
       "        vertical-align: middle;\n",
       "    }\n",
       "\n",
       "    .dataframe tbody tr th {\n",
       "        vertical-align: top;\n",
       "    }\n",
       "\n",
       "    .dataframe thead th {\n",
       "        text-align: right;\n",
       "    }\n",
       "</style>\n",
       "<table border=\"1\" class=\"dataframe\">\n",
       "  <thead>\n",
       "    <tr style=\"text-align: right;\">\n",
       "      <th></th>\n",
       "      <th>column_name</th>\n",
       "      <th>data_type</th>\n",
       "      <th>character_maximum_length</th>\n",
       "    </tr>\n",
       "  </thead>\n",
       "  <tbody>\n",
       "    <tr>\n",
       "      <th>0</th>\n",
       "      <td>día</td>\n",
       "      <td>bigint</td>\n",
       "      <td>None</td>\n",
       "    </tr>\n",
       "    <tr>\n",
       "      <th>1</th>\n",
       "      <td>anio</td>\n",
       "      <td>bigint</td>\n",
       "      <td>None</td>\n",
       "    </tr>\n",
       "    <tr>\n",
       "      <th>2</th>\n",
       "      <td>mes</td>\n",
       "      <td>bigint</td>\n",
       "      <td>None</td>\n",
       "    </tr>\n",
       "    <tr>\n",
       "      <th>3</th>\n",
       "      <td>día_nombre</td>\n",
       "      <td>text</td>\n",
       "      <td>None</td>\n",
       "    </tr>\n",
       "    <tr>\n",
       "      <th>4</th>\n",
       "      <td>tiempo_id</td>\n",
       "      <td>text</td>\n",
       "      <td>None</td>\n",
       "    </tr>\n",
       "    <tr>\n",
       "      <th>5</th>\n",
       "      <td>mes_nombre</td>\n",
       "      <td>text</td>\n",
       "      <td>None</td>\n",
       "    </tr>\n",
       "    <tr>\n",
       "      <th>6</th>\n",
       "      <td>fecha</td>\n",
       "      <td>text</td>\n",
       "      <td>None</td>\n",
       "    </tr>\n",
       "    <tr>\n",
       "      <th>7</th>\n",
       "      <td>hora</td>\n",
       "      <td>text</td>\n",
       "      <td>None</td>\n",
       "    </tr>\n",
       "  </tbody>\n",
       "</table>\n",
       "</div>"
      ]
     },
     "metadata": {},
     "output_type": "display_data"
    },
    {
     "name": "stdout",
     "output_type": "stream",
     "text": [
      "\n",
      "Estructura de la tabla ventas\n"
     ]
    },
    {
     "data": {
      "text/plain": [
       "       column_name         data_type character_maximum_length\n",
       "0         cantidad            bigint                     None\n",
       "1      sucursal_id            bigint                     None\n",
       "2            total  double precision                     None\n",
       "3  precio_unitario  double precision                     None\n",
       "4        tiempo_id              text                     None\n",
       "5      producto_id              text                     None\n",
       "6       cliente_id              text                     None\n",
       "7         venta_id              text                     None"
      ],
      "text/html": [
       "<div>\n",
       "<style scoped>\n",
       "    .dataframe tbody tr th:only-of-type {\n",
       "        vertical-align: middle;\n",
       "    }\n",
       "\n",
       "    .dataframe tbody tr th {\n",
       "        vertical-align: top;\n",
       "    }\n",
       "\n",
       "    .dataframe thead th {\n",
       "        text-align: right;\n",
       "    }\n",
       "</style>\n",
       "<table border=\"1\" class=\"dataframe\">\n",
       "  <thead>\n",
       "    <tr style=\"text-align: right;\">\n",
       "      <th></th>\n",
       "      <th>column_name</th>\n",
       "      <th>data_type</th>\n",
       "      <th>character_maximum_length</th>\n",
       "    </tr>\n",
       "  </thead>\n",
       "  <tbody>\n",
       "    <tr>\n",
       "      <th>0</th>\n",
       "      <td>cantidad</td>\n",
       "      <td>bigint</td>\n",
       "      <td>None</td>\n",
       "    </tr>\n",
       "    <tr>\n",
       "      <th>1</th>\n",
       "      <td>sucursal_id</td>\n",
       "      <td>bigint</td>\n",
       "      <td>None</td>\n",
       "    </tr>\n",
       "    <tr>\n",
       "      <th>2</th>\n",
       "      <td>total</td>\n",
       "      <td>double precision</td>\n",
       "      <td>None</td>\n",
       "    </tr>\n",
       "    <tr>\n",
       "      <th>3</th>\n",
       "      <td>precio_unitario</td>\n",
       "      <td>double precision</td>\n",
       "      <td>None</td>\n",
       "    </tr>\n",
       "    <tr>\n",
       "      <th>4</th>\n",
       "      <td>tiempo_id</td>\n",
       "      <td>text</td>\n",
       "      <td>None</td>\n",
       "    </tr>\n",
       "    <tr>\n",
       "      <th>5</th>\n",
       "      <td>producto_id</td>\n",
       "      <td>text</td>\n",
       "      <td>None</td>\n",
       "    </tr>\n",
       "    <tr>\n",
       "      <th>6</th>\n",
       "      <td>cliente_id</td>\n",
       "      <td>text</td>\n",
       "      <td>None</td>\n",
       "    </tr>\n",
       "    <tr>\n",
       "      <th>7</th>\n",
       "      <td>venta_id</td>\n",
       "      <td>text</td>\n",
       "      <td>None</td>\n",
       "    </tr>\n",
       "  </tbody>\n",
       "</table>\n",
       "</div>"
      ]
     },
     "metadata": {},
     "output_type": "display_data"
    },
    {
     "name": "stdout",
     "output_type": "stream",
     "text": [
      "\n",
      "Estructura de la tabla envios\n"
     ]
    },
    {
     "data": {
      "text/plain": [
       "    column_name data_type character_maximum_length\n",
       "0      envio_id      text                     None\n",
       "1      venta_id      text                     None\n",
       "2  proveedor_id      text                     None\n",
       "3  estado_envio      text                     None\n",
       "4     tiempo_id      text                     None"
      ],
      "text/html": [
       "<div>\n",
       "<style scoped>\n",
       "    .dataframe tbody tr th:only-of-type {\n",
       "        vertical-align: middle;\n",
       "    }\n",
       "\n",
       "    .dataframe tbody tr th {\n",
       "        vertical-align: top;\n",
       "    }\n",
       "\n",
       "    .dataframe thead th {\n",
       "        text-align: right;\n",
       "    }\n",
       "</style>\n",
       "<table border=\"1\" class=\"dataframe\">\n",
       "  <thead>\n",
       "    <tr style=\"text-align: right;\">\n",
       "      <th></th>\n",
       "      <th>column_name</th>\n",
       "      <th>data_type</th>\n",
       "      <th>character_maximum_length</th>\n",
       "    </tr>\n",
       "  </thead>\n",
       "  <tbody>\n",
       "    <tr>\n",
       "      <th>0</th>\n",
       "      <td>envio_id</td>\n",
       "      <td>text</td>\n",
       "      <td>None</td>\n",
       "    </tr>\n",
       "    <tr>\n",
       "      <th>1</th>\n",
       "      <td>venta_id</td>\n",
       "      <td>text</td>\n",
       "      <td>None</td>\n",
       "    </tr>\n",
       "    <tr>\n",
       "      <th>2</th>\n",
       "      <td>proveedor_id</td>\n",
       "      <td>text</td>\n",
       "      <td>None</td>\n",
       "    </tr>\n",
       "    <tr>\n",
       "      <th>3</th>\n",
       "      <td>estado_envio</td>\n",
       "      <td>text</td>\n",
       "      <td>None</td>\n",
       "    </tr>\n",
       "    <tr>\n",
       "      <th>4</th>\n",
       "      <td>tiempo_id</td>\n",
       "      <td>text</td>\n",
       "      <td>None</td>\n",
       "    </tr>\n",
       "  </tbody>\n",
       "</table>\n",
       "</div>"
      ]
     },
     "metadata": {},
     "output_type": "display_data"
    },
    {
     "name": "stdout",
     "output_type": "stream",
     "text": [
      "\n",
      "Estructura de la tabla clientes\n"
     ]
    },
    {
     "data": {
      "text/plain": [
       "  column_name data_type character_maximum_length\n",
       "0        edad    bigint                     None\n",
       "1  cliente_id      text                     None\n",
       "2      nombre      text                     None\n",
       "3      genero      text                     None\n",
       "4   ubicacion      text                     None"
      ],
      "text/html": [
       "<div>\n",
       "<style scoped>\n",
       "    .dataframe tbody tr th:only-of-type {\n",
       "        vertical-align: middle;\n",
       "    }\n",
       "\n",
       "    .dataframe tbody tr th {\n",
       "        vertical-align: top;\n",
       "    }\n",
       "\n",
       "    .dataframe thead th {\n",
       "        text-align: right;\n",
       "    }\n",
       "</style>\n",
       "<table border=\"1\" class=\"dataframe\">\n",
       "  <thead>\n",
       "    <tr style=\"text-align: right;\">\n",
       "      <th></th>\n",
       "      <th>column_name</th>\n",
       "      <th>data_type</th>\n",
       "      <th>character_maximum_length</th>\n",
       "    </tr>\n",
       "  </thead>\n",
       "  <tbody>\n",
       "    <tr>\n",
       "      <th>0</th>\n",
       "      <td>edad</td>\n",
       "      <td>bigint</td>\n",
       "      <td>None</td>\n",
       "    </tr>\n",
       "    <tr>\n",
       "      <th>1</th>\n",
       "      <td>cliente_id</td>\n",
       "      <td>text</td>\n",
       "      <td>None</td>\n",
       "    </tr>\n",
       "    <tr>\n",
       "      <th>2</th>\n",
       "      <td>nombre</td>\n",
       "      <td>text</td>\n",
       "      <td>None</td>\n",
       "    </tr>\n",
       "    <tr>\n",
       "      <th>3</th>\n",
       "      <td>genero</td>\n",
       "      <td>text</td>\n",
       "      <td>None</td>\n",
       "    </tr>\n",
       "    <tr>\n",
       "      <th>4</th>\n",
       "      <td>ubicacion</td>\n",
       "      <td>text</td>\n",
       "      <td>None</td>\n",
       "    </tr>\n",
       "  </tbody>\n",
       "</table>\n",
       "</div>"
      ]
     },
     "metadata": {},
     "output_type": "display_data"
    },
    {
     "name": "stdout",
     "output_type": "stream",
     "text": [
      "\n",
      "Estructura de la tabla productos\n"
     ]
    },
    {
     "data": {
      "text/plain": [
       "       column_name         data_type character_maximum_length\n",
       "0      precio_base  double precision                     None\n",
       "1      producto_id              text                     None\n",
       "2  nombre_producto              text                     None\n",
       "3        categoria              text                     None"
      ],
      "text/html": [
       "<div>\n",
       "<style scoped>\n",
       "    .dataframe tbody tr th:only-of-type {\n",
       "        vertical-align: middle;\n",
       "    }\n",
       "\n",
       "    .dataframe tbody tr th {\n",
       "        vertical-align: top;\n",
       "    }\n",
       "\n",
       "    .dataframe thead th {\n",
       "        text-align: right;\n",
       "    }\n",
       "</style>\n",
       "<table border=\"1\" class=\"dataframe\">\n",
       "  <thead>\n",
       "    <tr style=\"text-align: right;\">\n",
       "      <th></th>\n",
       "      <th>column_name</th>\n",
       "      <th>data_type</th>\n",
       "      <th>character_maximum_length</th>\n",
       "    </tr>\n",
       "  </thead>\n",
       "  <tbody>\n",
       "    <tr>\n",
       "      <th>0</th>\n",
       "      <td>precio_base</td>\n",
       "      <td>double precision</td>\n",
       "      <td>None</td>\n",
       "    </tr>\n",
       "    <tr>\n",
       "      <th>1</th>\n",
       "      <td>producto_id</td>\n",
       "      <td>text</td>\n",
       "      <td>None</td>\n",
       "    </tr>\n",
       "    <tr>\n",
       "      <th>2</th>\n",
       "      <td>nombre_producto</td>\n",
       "      <td>text</td>\n",
       "      <td>None</td>\n",
       "    </tr>\n",
       "    <tr>\n",
       "      <th>3</th>\n",
       "      <td>categoria</td>\n",
       "      <td>text</td>\n",
       "      <td>None</td>\n",
       "    </tr>\n",
       "  </tbody>\n",
       "</table>\n",
       "</div>"
      ]
     },
     "metadata": {},
     "output_type": "display_data"
    },
    {
     "name": "stdout",
     "output_type": "stream",
     "text": [
      "\n",
      "Estructura de la tabla proveedores\n"
     ]
    },
    {
     "data": {
      "text/plain": [
       "        column_name data_type character_maximum_length\n",
       "0      proveedor_id      text                     None\n",
       "1  nombre_proveedor      text                     None\n",
       "2          contacto      text                     None\n",
       "3         ubicacion      text                     None"
      ],
      "text/html": [
       "<div>\n",
       "<style scoped>\n",
       "    .dataframe tbody tr th:only-of-type {\n",
       "        vertical-align: middle;\n",
       "    }\n",
       "\n",
       "    .dataframe tbody tr th {\n",
       "        vertical-align: top;\n",
       "    }\n",
       "\n",
       "    .dataframe thead th {\n",
       "        text-align: right;\n",
       "    }\n",
       "</style>\n",
       "<table border=\"1\" class=\"dataframe\">\n",
       "  <thead>\n",
       "    <tr style=\"text-align: right;\">\n",
       "      <th></th>\n",
       "      <th>column_name</th>\n",
       "      <th>data_type</th>\n",
       "      <th>character_maximum_length</th>\n",
       "    </tr>\n",
       "  </thead>\n",
       "  <tbody>\n",
       "    <tr>\n",
       "      <th>0</th>\n",
       "      <td>proveedor_id</td>\n",
       "      <td>text</td>\n",
       "      <td>None</td>\n",
       "    </tr>\n",
       "    <tr>\n",
       "      <th>1</th>\n",
       "      <td>nombre_proveedor</td>\n",
       "      <td>text</td>\n",
       "      <td>None</td>\n",
       "    </tr>\n",
       "    <tr>\n",
       "      <th>2</th>\n",
       "      <td>contacto</td>\n",
       "      <td>text</td>\n",
       "      <td>None</td>\n",
       "    </tr>\n",
       "    <tr>\n",
       "      <th>3</th>\n",
       "      <td>ubicacion</td>\n",
       "      <td>text</td>\n",
       "      <td>None</td>\n",
       "    </tr>\n",
       "  </tbody>\n",
       "</table>\n",
       "</div>"
      ]
     },
     "metadata": {},
     "output_type": "display_data"
    }
   ],
   "execution_count": 46
  },
  {
   "metadata": {},
   "cell_type": "markdown",
   "source": "### Conteo de los registros de cada tabla",
   "id": "3ca77b456e3f7b65"
  },
  {
   "cell_type": "code",
   "id": "ebf2a321-ca2a-402e-bd4c-09955703a65b",
   "metadata": {
    "ExecuteTime": {
     "end_time": "2025-04-01T06:40:02.345900Z",
     "start_time": "2025-04-01T06:40:02.194301Z"
    }
   },
   "source": [
    "print(\"Conteo de Filas por Tabla:\")\n",
    "for table in tablas[\"table_name\"]:\n",
    "    query = f\"SELECT COUNT(*) FROM {table}\"\n",
    "    count = pd.read_sql(query, con=engine)\n",
    "    print(f\"{table.capitalize()} -> Total de filas: {count.iloc[0, 0]}\")"
   ],
   "outputs": [
    {
     "name": "stdout",
     "output_type": "stream",
     "text": [
      "Conteo de Filas por Tabla:\n",
      "Tiempo -> Total de filas: 484807\n",
      "Ventas -> Total de filas: 474086\n",
      "Envios -> Total de filas: 17856\n",
      "Clientes -> Total de filas: 49000\n",
      "Productos -> Total de filas: 980\n",
      "Proveedores -> Total de filas: 196\n"
     ]
    }
   ],
   "execution_count": 47
  },
  {
   "cell_type": "code",
   "id": "4acb2f8e-a34d-4234-96ef-4968666261ef",
   "metadata": {
    "ExecuteTime": {
     "end_time": "2025-04-01T06:40:02.645478Z",
     "start_time": "2025-04-01T06:40:02.635484Z"
    }
   },
   "source": [
    "# Vista previa de los registros en cada tabla"
   ],
   "outputs": [],
   "execution_count": 48
  },
  {
   "cell_type": "code",
   "id": "52025c57-8342-4782-90ff-08e135e4d75c",
   "metadata": {
    "ExecuteTime": {
     "end_time": "2025-04-01T06:40:02.803549Z",
     "start_time": "2025-04-01T06:40:02.738121Z"
    }
   },
   "source": [
    "for table in tablas[\"table_name\"]:\n",
    "    df = pd.read_sql(f\"SELECT * FROM {table} LIMIT 5\", con=engine)\n",
    "    print(f\"\\n{table.capitalize()} - Primeras 5 filas:\")\n",
    "    display(df)"
   ],
   "outputs": [
    {
     "name": "stdout",
     "output_type": "stream",
     "text": [
      "\n",
      "Tiempo - Primeras 5 filas:\n"
     ]
    },
    {
     "data": {
      "text/plain": [
       "    tiempo_id       fecha      hora  anio  mes  día día_nombre mes_nombre\n",
       "0  0000000001  2023-01-01  00:00:00  2023    1    1     Sunday    January\n",
       "1  0000000002  2023-01-01  00:01:00  2023    1    1     Sunday    January\n",
       "2  0000000003  2023-01-01  00:03:00  2023    1    1     Sunday    January\n",
       "3  0000000004  2023-01-01  00:04:00  2023    1    1     Sunday    January\n",
       "4  0000000005  2023-01-01  00:05:00  2023    1    1     Sunday    January"
      ],
      "text/html": [
       "<div>\n",
       "<style scoped>\n",
       "    .dataframe tbody tr th:only-of-type {\n",
       "        vertical-align: middle;\n",
       "    }\n",
       "\n",
       "    .dataframe tbody tr th {\n",
       "        vertical-align: top;\n",
       "    }\n",
       "\n",
       "    .dataframe thead th {\n",
       "        text-align: right;\n",
       "    }\n",
       "</style>\n",
       "<table border=\"1\" class=\"dataframe\">\n",
       "  <thead>\n",
       "    <tr style=\"text-align: right;\">\n",
       "      <th></th>\n",
       "      <th>tiempo_id</th>\n",
       "      <th>fecha</th>\n",
       "      <th>hora</th>\n",
       "      <th>anio</th>\n",
       "      <th>mes</th>\n",
       "      <th>día</th>\n",
       "      <th>día_nombre</th>\n",
       "      <th>mes_nombre</th>\n",
       "    </tr>\n",
       "  </thead>\n",
       "  <tbody>\n",
       "    <tr>\n",
       "      <th>0</th>\n",
       "      <td>0000000001</td>\n",
       "      <td>2023-01-01</td>\n",
       "      <td>00:00:00</td>\n",
       "      <td>2023</td>\n",
       "      <td>1</td>\n",
       "      <td>1</td>\n",
       "      <td>Sunday</td>\n",
       "      <td>January</td>\n",
       "    </tr>\n",
       "    <tr>\n",
       "      <th>1</th>\n",
       "      <td>0000000002</td>\n",
       "      <td>2023-01-01</td>\n",
       "      <td>00:01:00</td>\n",
       "      <td>2023</td>\n",
       "      <td>1</td>\n",
       "      <td>1</td>\n",
       "      <td>Sunday</td>\n",
       "      <td>January</td>\n",
       "    </tr>\n",
       "    <tr>\n",
       "      <th>2</th>\n",
       "      <td>0000000003</td>\n",
       "      <td>2023-01-01</td>\n",
       "      <td>00:03:00</td>\n",
       "      <td>2023</td>\n",
       "      <td>1</td>\n",
       "      <td>1</td>\n",
       "      <td>Sunday</td>\n",
       "      <td>January</td>\n",
       "    </tr>\n",
       "    <tr>\n",
       "      <th>3</th>\n",
       "      <td>0000000004</td>\n",
       "      <td>2023-01-01</td>\n",
       "      <td>00:04:00</td>\n",
       "      <td>2023</td>\n",
       "      <td>1</td>\n",
       "      <td>1</td>\n",
       "      <td>Sunday</td>\n",
       "      <td>January</td>\n",
       "    </tr>\n",
       "    <tr>\n",
       "      <th>4</th>\n",
       "      <td>0000000005</td>\n",
       "      <td>2023-01-01</td>\n",
       "      <td>00:05:00</td>\n",
       "      <td>2023</td>\n",
       "      <td>1</td>\n",
       "      <td>1</td>\n",
       "      <td>Sunday</td>\n",
       "      <td>January</td>\n",
       "    </tr>\n",
       "  </tbody>\n",
       "</table>\n",
       "</div>"
      ]
     },
     "metadata": {},
     "output_type": "display_data"
    },
    {
     "name": "stdout",
     "output_type": "stream",
     "text": [
      "\n",
      "Ventas - Primeras 5 filas:\n"
     ]
    },
    {
     "data": {
      "text/plain": [
       "     venta_id producto_id  cantidad  precio_unitario  cliente_id  sucursal_id  \\\n",
       "0  0000000001  0000000811         4           468.44  0000026032           69   \n",
       "1  0000000002  0000000538        16           241.69  0000006648           77   \n",
       "2  0000000004  0000000462         5           367.03  0000022158           69   \n",
       "3  0000000005  0000000043        14            28.97  0000025245           45   \n",
       "4  0000000006  0000000712        11           345.73  0000024757           91   \n",
       "\n",
       "     total   tiempo_id  \n",
       "0  1873.78  0000000001  \n",
       "1  3866.97  0000000002  \n",
       "2  1835.14  0000000003  \n",
       "3   405.60  0000000004  \n",
       "4  3803.04  0000000005  "
      ],
      "text/html": [
       "<div>\n",
       "<style scoped>\n",
       "    .dataframe tbody tr th:only-of-type {\n",
       "        vertical-align: middle;\n",
       "    }\n",
       "\n",
       "    .dataframe tbody tr th {\n",
       "        vertical-align: top;\n",
       "    }\n",
       "\n",
       "    .dataframe thead th {\n",
       "        text-align: right;\n",
       "    }\n",
       "</style>\n",
       "<table border=\"1\" class=\"dataframe\">\n",
       "  <thead>\n",
       "    <tr style=\"text-align: right;\">\n",
       "      <th></th>\n",
       "      <th>venta_id</th>\n",
       "      <th>producto_id</th>\n",
       "      <th>cantidad</th>\n",
       "      <th>precio_unitario</th>\n",
       "      <th>cliente_id</th>\n",
       "      <th>sucursal_id</th>\n",
       "      <th>total</th>\n",
       "      <th>tiempo_id</th>\n",
       "    </tr>\n",
       "  </thead>\n",
       "  <tbody>\n",
       "    <tr>\n",
       "      <th>0</th>\n",
       "      <td>0000000001</td>\n",
       "      <td>0000000811</td>\n",
       "      <td>4</td>\n",
       "      <td>468.44</td>\n",
       "      <td>0000026032</td>\n",
       "      <td>69</td>\n",
       "      <td>1873.78</td>\n",
       "      <td>0000000001</td>\n",
       "    </tr>\n",
       "    <tr>\n",
       "      <th>1</th>\n",
       "      <td>0000000002</td>\n",
       "      <td>0000000538</td>\n",
       "      <td>16</td>\n",
       "      <td>241.69</td>\n",
       "      <td>0000006648</td>\n",
       "      <td>77</td>\n",
       "      <td>3866.97</td>\n",
       "      <td>0000000002</td>\n",
       "    </tr>\n",
       "    <tr>\n",
       "      <th>2</th>\n",
       "      <td>0000000004</td>\n",
       "      <td>0000000462</td>\n",
       "      <td>5</td>\n",
       "      <td>367.03</td>\n",
       "      <td>0000022158</td>\n",
       "      <td>69</td>\n",
       "      <td>1835.14</td>\n",
       "      <td>0000000003</td>\n",
       "    </tr>\n",
       "    <tr>\n",
       "      <th>3</th>\n",
       "      <td>0000000005</td>\n",
       "      <td>0000000043</td>\n",
       "      <td>14</td>\n",
       "      <td>28.97</td>\n",
       "      <td>0000025245</td>\n",
       "      <td>45</td>\n",
       "      <td>405.60</td>\n",
       "      <td>0000000004</td>\n",
       "    </tr>\n",
       "    <tr>\n",
       "      <th>4</th>\n",
       "      <td>0000000006</td>\n",
       "      <td>0000000712</td>\n",
       "      <td>11</td>\n",
       "      <td>345.73</td>\n",
       "      <td>0000024757</td>\n",
       "      <td>91</td>\n",
       "      <td>3803.04</td>\n",
       "      <td>0000000005</td>\n",
       "    </tr>\n",
       "  </tbody>\n",
       "</table>\n",
       "</div>"
      ]
     },
     "metadata": {},
     "output_type": "display_data"
    },
    {
     "name": "stdout",
     "output_type": "stream",
     "text": [
      "\n",
      "Envios - Primeras 5 filas:\n"
     ]
    },
    {
     "data": {
      "text/plain": [
       "     envio_id    venta_id proveedor_id estado_envio   tiempo_id\n",
       "0  0000000001  0000306210   0000000010    Retrasado  0000001409\n",
       "1  0000000002  0000159044   0000000076    Entregado  0000001468\n",
       "2  0000000003  0000230549   0000000137  En tránsito  0000001525\n",
       "3  0000000004  0000133984   0000000164    Retrasado  0000001583\n",
       "4  0000000005  0000262497   0000000051    Retrasado  0000001641"
      ],
      "text/html": [
       "<div>\n",
       "<style scoped>\n",
       "    .dataframe tbody tr th:only-of-type {\n",
       "        vertical-align: middle;\n",
       "    }\n",
       "\n",
       "    .dataframe tbody tr th {\n",
       "        vertical-align: top;\n",
       "    }\n",
       "\n",
       "    .dataframe thead th {\n",
       "        text-align: right;\n",
       "    }\n",
       "</style>\n",
       "<table border=\"1\" class=\"dataframe\">\n",
       "  <thead>\n",
       "    <tr style=\"text-align: right;\">\n",
       "      <th></th>\n",
       "      <th>envio_id</th>\n",
       "      <th>venta_id</th>\n",
       "      <th>proveedor_id</th>\n",
       "      <th>estado_envio</th>\n",
       "      <th>tiempo_id</th>\n",
       "    </tr>\n",
       "  </thead>\n",
       "  <tbody>\n",
       "    <tr>\n",
       "      <th>0</th>\n",
       "      <td>0000000001</td>\n",
       "      <td>0000306210</td>\n",
       "      <td>0000000010</td>\n",
       "      <td>Retrasado</td>\n",
       "      <td>0000001409</td>\n",
       "    </tr>\n",
       "    <tr>\n",
       "      <th>1</th>\n",
       "      <td>0000000002</td>\n",
       "      <td>0000159044</td>\n",
       "      <td>0000000076</td>\n",
       "      <td>Entregado</td>\n",
       "      <td>0000001468</td>\n",
       "    </tr>\n",
       "    <tr>\n",
       "      <th>2</th>\n",
       "      <td>0000000003</td>\n",
       "      <td>0000230549</td>\n",
       "      <td>0000000137</td>\n",
       "      <td>En tránsito</td>\n",
       "      <td>0000001525</td>\n",
       "    </tr>\n",
       "    <tr>\n",
       "      <th>3</th>\n",
       "      <td>0000000004</td>\n",
       "      <td>0000133984</td>\n",
       "      <td>0000000164</td>\n",
       "      <td>Retrasado</td>\n",
       "      <td>0000001583</td>\n",
       "    </tr>\n",
       "    <tr>\n",
       "      <th>4</th>\n",
       "      <td>0000000005</td>\n",
       "      <td>0000262497</td>\n",
       "      <td>0000000051</td>\n",
       "      <td>Retrasado</td>\n",
       "      <td>0000001641</td>\n",
       "    </tr>\n",
       "  </tbody>\n",
       "</table>\n",
       "</div>"
      ]
     },
     "metadata": {},
     "output_type": "display_data"
    },
    {
     "name": "stdout",
     "output_type": "stream",
     "text": [
      "\n",
      "Clientes - Primeras 5 filas:\n"
     ]
    },
    {
     "data": {
      "text/plain": [
       "   cliente_id     nombre  edad     genero  ubicacion\n",
       "0  0000000001  Cliente_1    54       Otro     Puebla\n",
       "1  0000000002  Cliente_2    46  Masculino    Tijuana\n",
       "2  0000000003  Cliente_3    68   Femenino  Monterrey\n",
       "3  0000000004  Cliente_4    21  Masculino       Cdmx\n",
       "4  0000000005  Cliente_5    54       Otro       Cdmx"
      ],
      "text/html": [
       "<div>\n",
       "<style scoped>\n",
       "    .dataframe tbody tr th:only-of-type {\n",
       "        vertical-align: middle;\n",
       "    }\n",
       "\n",
       "    .dataframe tbody tr th {\n",
       "        vertical-align: top;\n",
       "    }\n",
       "\n",
       "    .dataframe thead th {\n",
       "        text-align: right;\n",
       "    }\n",
       "</style>\n",
       "<table border=\"1\" class=\"dataframe\">\n",
       "  <thead>\n",
       "    <tr style=\"text-align: right;\">\n",
       "      <th></th>\n",
       "      <th>cliente_id</th>\n",
       "      <th>nombre</th>\n",
       "      <th>edad</th>\n",
       "      <th>genero</th>\n",
       "      <th>ubicacion</th>\n",
       "    </tr>\n",
       "  </thead>\n",
       "  <tbody>\n",
       "    <tr>\n",
       "      <th>0</th>\n",
       "      <td>0000000001</td>\n",
       "      <td>Cliente_1</td>\n",
       "      <td>54</td>\n",
       "      <td>Otro</td>\n",
       "      <td>Puebla</td>\n",
       "    </tr>\n",
       "    <tr>\n",
       "      <th>1</th>\n",
       "      <td>0000000002</td>\n",
       "      <td>Cliente_2</td>\n",
       "      <td>46</td>\n",
       "      <td>Masculino</td>\n",
       "      <td>Tijuana</td>\n",
       "    </tr>\n",
       "    <tr>\n",
       "      <th>2</th>\n",
       "      <td>0000000003</td>\n",
       "      <td>Cliente_3</td>\n",
       "      <td>68</td>\n",
       "      <td>Femenino</td>\n",
       "      <td>Monterrey</td>\n",
       "    </tr>\n",
       "    <tr>\n",
       "      <th>3</th>\n",
       "      <td>0000000004</td>\n",
       "      <td>Cliente_4</td>\n",
       "      <td>21</td>\n",
       "      <td>Masculino</td>\n",
       "      <td>Cdmx</td>\n",
       "    </tr>\n",
       "    <tr>\n",
       "      <th>4</th>\n",
       "      <td>0000000005</td>\n",
       "      <td>Cliente_5</td>\n",
       "      <td>54</td>\n",
       "      <td>Otro</td>\n",
       "      <td>Cdmx</td>\n",
       "    </tr>\n",
       "  </tbody>\n",
       "</table>\n",
       "</div>"
      ]
     },
     "metadata": {},
     "output_type": "display_data"
    },
    {
     "name": "stdout",
     "output_type": "stream",
     "text": [
      "\n",
      "Productos - Primeras 5 filas:\n"
     ]
    },
    {
     "data": {
      "text/plain": [
       "  producto_id nombre_producto  categoria  precio_base\n",
       "0  0000000001      Producto_1       Ropa       172.87\n",
       "1  0000000002      Producto_2       Ropa       392.52\n",
       "2  0000000003      Producto_3       Ropa        94.29\n",
       "3  0000000004      Producto_4  Abarrotes       370.64\n",
       "4  0000000005      Producto_5  Abarrotes        51.53"
      ],
      "text/html": [
       "<div>\n",
       "<style scoped>\n",
       "    .dataframe tbody tr th:only-of-type {\n",
       "        vertical-align: middle;\n",
       "    }\n",
       "\n",
       "    .dataframe tbody tr th {\n",
       "        vertical-align: top;\n",
       "    }\n",
       "\n",
       "    .dataframe thead th {\n",
       "        text-align: right;\n",
       "    }\n",
       "</style>\n",
       "<table border=\"1\" class=\"dataframe\">\n",
       "  <thead>\n",
       "    <tr style=\"text-align: right;\">\n",
       "      <th></th>\n",
       "      <th>producto_id</th>\n",
       "      <th>nombre_producto</th>\n",
       "      <th>categoria</th>\n",
       "      <th>precio_base</th>\n",
       "    </tr>\n",
       "  </thead>\n",
       "  <tbody>\n",
       "    <tr>\n",
       "      <th>0</th>\n",
       "      <td>0000000001</td>\n",
       "      <td>Producto_1</td>\n",
       "      <td>Ropa</td>\n",
       "      <td>172.87</td>\n",
       "    </tr>\n",
       "    <tr>\n",
       "      <th>1</th>\n",
       "      <td>0000000002</td>\n",
       "      <td>Producto_2</td>\n",
       "      <td>Ropa</td>\n",
       "      <td>392.52</td>\n",
       "    </tr>\n",
       "    <tr>\n",
       "      <th>2</th>\n",
       "      <td>0000000003</td>\n",
       "      <td>Producto_3</td>\n",
       "      <td>Ropa</td>\n",
       "      <td>94.29</td>\n",
       "    </tr>\n",
       "    <tr>\n",
       "      <th>3</th>\n",
       "      <td>0000000004</td>\n",
       "      <td>Producto_4</td>\n",
       "      <td>Abarrotes</td>\n",
       "      <td>370.64</td>\n",
       "    </tr>\n",
       "    <tr>\n",
       "      <th>4</th>\n",
       "      <td>0000000005</td>\n",
       "      <td>Producto_5</td>\n",
       "      <td>Abarrotes</td>\n",
       "      <td>51.53</td>\n",
       "    </tr>\n",
       "  </tbody>\n",
       "</table>\n",
       "</div>"
      ]
     },
     "metadata": {},
     "output_type": "display_data"
    },
    {
     "name": "stdout",
     "output_type": "stream",
     "text": [
      "\n",
      "Proveedores - Primeras 5 filas:\n"
     ]
    },
    {
     "data": {
      "text/plain": [
       "  proveedor_id nombre_proveedor               contacto  ubicacion\n",
       "0   0000000001      Proveedor_1  contacto1@empresa.com  Monterrey\n",
       "1   0000000002      Proveedor_2  contacto2@empresa.com    Tijuana\n",
       "2   0000000003      Proveedor_3  contacto3@empresa.com    Tijuana\n",
       "3   0000000004      Proveedor_4  contacto4@empresa.com       Cdmx\n",
       "4   0000000005      Proveedor_5  contacto5@empresa.com  Monterrey"
      ],
      "text/html": [
       "<div>\n",
       "<style scoped>\n",
       "    .dataframe tbody tr th:only-of-type {\n",
       "        vertical-align: middle;\n",
       "    }\n",
       "\n",
       "    .dataframe tbody tr th {\n",
       "        vertical-align: top;\n",
       "    }\n",
       "\n",
       "    .dataframe thead th {\n",
       "        text-align: right;\n",
       "    }\n",
       "</style>\n",
       "<table border=\"1\" class=\"dataframe\">\n",
       "  <thead>\n",
       "    <tr style=\"text-align: right;\">\n",
       "      <th></th>\n",
       "      <th>proveedor_id</th>\n",
       "      <th>nombre_proveedor</th>\n",
       "      <th>contacto</th>\n",
       "      <th>ubicacion</th>\n",
       "    </tr>\n",
       "  </thead>\n",
       "  <tbody>\n",
       "    <tr>\n",
       "      <th>0</th>\n",
       "      <td>0000000001</td>\n",
       "      <td>Proveedor_1</td>\n",
       "      <td>contacto1@empresa.com</td>\n",
       "      <td>Monterrey</td>\n",
       "    </tr>\n",
       "    <tr>\n",
       "      <th>1</th>\n",
       "      <td>0000000002</td>\n",
       "      <td>Proveedor_2</td>\n",
       "      <td>contacto2@empresa.com</td>\n",
       "      <td>Tijuana</td>\n",
       "    </tr>\n",
       "    <tr>\n",
       "      <th>2</th>\n",
       "      <td>0000000003</td>\n",
       "      <td>Proveedor_3</td>\n",
       "      <td>contacto3@empresa.com</td>\n",
       "      <td>Tijuana</td>\n",
       "    </tr>\n",
       "    <tr>\n",
       "      <th>3</th>\n",
       "      <td>0000000004</td>\n",
       "      <td>Proveedor_4</td>\n",
       "      <td>contacto4@empresa.com</td>\n",
       "      <td>Cdmx</td>\n",
       "    </tr>\n",
       "    <tr>\n",
       "      <th>4</th>\n",
       "      <td>0000000005</td>\n",
       "      <td>Proveedor_5</td>\n",
       "      <td>contacto5@empresa.com</td>\n",
       "      <td>Monterrey</td>\n",
       "    </tr>\n",
       "  </tbody>\n",
       "</table>\n",
       "</div>"
      ]
     },
     "metadata": {},
     "output_type": "display_data"
    }
   ],
   "execution_count": 49
  },
  {
   "metadata": {},
   "cell_type": "markdown",
   "source": "### Revisión de valores nulos",
   "id": "775a33ae5328e9a7"
  },
  {
   "cell_type": "code",
   "id": "d13d2d20-c0d8-4d5f-a6c1-3886ff921962",
   "metadata": {
    "ExecuteTime": {
     "end_time": "2025-04-01T06:40:07.103558Z",
     "start_time": "2025-04-01T06:40:03.006990Z"
    }
   },
   "source": [
    "print(\"Nulos por Tabla:\")\n",
    "for table in tablas[\"table_name\"]:\n",
    "    df = pd.read_sql(f\"SELECT * FROM {table}\", con=engine)\n",
    "    print(f\"\\n{table.capitalize()} - Valores Nulos:\")\n",
    "    nulls = df.isnull().sum()\n",
    "    if nulls.sum() > 0:\n",
    "        print(nulls[nulls > 0])\n",
    "    else:\n",
    "        print(\"No hay valores nulos\")\n",
    "    print(\"-\" * 40)\n"
   ],
   "outputs": [
    {
     "name": "stdout",
     "output_type": "stream",
     "text": [
      "Nulos por Tabla:\n",
      "\n",
      "Tiempo - Valores Nulos:\n",
      "No hay valores nulos\n",
      "----------------------------------------\n",
      "\n",
      "Ventas - Valores Nulos:\n",
      "No hay valores nulos\n",
      "----------------------------------------\n",
      "\n",
      "Envios - Valores Nulos:\n",
      "No hay valores nulos\n",
      "----------------------------------------\n",
      "\n",
      "Clientes - Valores Nulos:\n",
      "No hay valores nulos\n",
      "----------------------------------------\n",
      "\n",
      "Productos - Valores Nulos:\n",
      "No hay valores nulos\n",
      "----------------------------------------\n",
      "\n",
      "Proveedores - Valores Nulos:\n",
      "No hay valores nulos\n",
      "----------------------------------------\n"
     ]
    }
   ],
   "execution_count": 50
  },
  {
   "metadata": {},
   "cell_type": "markdown",
   "source": "### Revisión de registros duplicados",
   "id": "e1eedfc6c96e12b1"
  },
  {
   "metadata": {
    "ExecuteTime": {
     "end_time": "2025-04-01T06:40:11.838841Z",
     "start_time": "2025-04-01T06:40:07.121085Z"
    }
   },
   "cell_type": "code",
   "source": [
    "print(\"\\nRegistros Duplicados por Tabla:\")\n",
    "for table in tablas[\"table_name\"]:\n",
    "    df = pd.read_sql(f\"SELECT * FROM {table}\", con=engine)\n",
    "    duplicates = df.duplicated().sum()\n",
    "    print(f\"{table.capitalize()} - Duplicados: {duplicates}\")\n",
    "    print(\"-\" * 40)"
   ],
   "id": "8dfd3940d5f4dd9a",
   "outputs": [
    {
     "name": "stdout",
     "output_type": "stream",
     "text": [
      "\n",
      "Registros Duplicados por Tabla:\n",
      "Tiempo - Duplicados: 0\n",
      "----------------------------------------\n",
      "Ventas - Duplicados: 0\n",
      "----------------------------------------\n",
      "Envios - Duplicados: 0\n",
      "----------------------------------------\n",
      "Clientes - Duplicados: 0\n",
      "----------------------------------------\n",
      "Productos - Duplicados: 0\n",
      "----------------------------------------\n",
      "Proveedores - Duplicados: 0\n",
      "----------------------------------------\n"
     ]
    }
   ],
   "execution_count": 51
  },
  {
   "metadata": {},
   "cell_type": "markdown",
   "source": "### Revisión de relaciones entre tablas",
   "id": "caeb68a90312ed78"
  },
  {
   "metadata": {
    "ExecuteTime": {
     "end_time": "2025-04-01T06:40:11.870022Z",
     "start_time": "2025-04-01T06:40:11.857432Z"
    }
   },
   "cell_type": "code",
   "source": [
    "def check_foreign_keys(foreign_key_checks):\n",
    "    print(\"\\nVerificación de Claves Foráneas:\")\n",
    "    for description, query in foreign_key_checks:\n",
    "        df = pd.read_sql(query, con=engine)\n",
    "        print(f\"{description} - Registros encontrados: {len(df)}\")\n",
    "        if not df.empty:\n",
    "            display(df)\n",
    "        else:\n",
    "            print(\"No se encontraron registros relevantes.\")\n",
    "        print(\"-\" * 40)"
   ],
   "id": "a179ee907abed333",
   "outputs": [],
   "execution_count": 52
  },
  {
   "metadata": {
    "ExecuteTime": {
     "end_time": "2025-04-01T06:40:11.901181Z",
     "start_time": "2025-04-01T06:40:11.887557Z"
    }
   },
   "cell_type": "code",
   "source": [
    "foreign_key_checks = [\n",
    "    (\"Ventas sin fecha en 'tiempo'\", \"\"\"\n",
    "        SELECT v.venta_id FROM ventas v\n",
    "        LEFT JOIN tiempo t ON v.tiempo_id = t.tiempo_id\n",
    "        WHERE t.tiempo_id IS NULL\n",
    "    \"\"\"),\n",
    "    (\"Ventas con productos inexistentes en 'productos'\", \"\"\"\n",
    "        SELECT v.venta_id, v.producto_id FROM ventas v\n",
    "        LEFT JOIN productos p ON v.producto_id = p.producto_id\n",
    "        WHERE p.producto_id IS NULL\n",
    "    \"\"\"),\n",
    "    (\"Ventas con clientes inexistentes en 'clientes'\", \"\"\"\n",
    "        SELECT v.venta_id, v.cliente_id FROM ventas v\n",
    "        LEFT JOIN clientes c ON v.cliente_id = c.cliente_id\n",
    "        WHERE c.cliente_id IS NULL\n",
    "    \"\"\"),\n",
    "    (\"Envíos con ventas inexistentes en 'ventas'\", \"\"\"\n",
    "        SELECT e.envio_id, e.venta_id FROM envios e\n",
    "        LEFT JOIN ventas v ON e.venta_id = v.venta_id\n",
    "        WHERE v.venta_id IS NULL\n",
    "    \"\"\"),\n",
    "    (\"Envíos sin fecha en 'tiempo'\", \"\"\"\n",
    "        SELECT e.envio_id, e.tiempo_id FROM envios e\n",
    "        LEFT JOIN tiempo t ON e.tiempo_id = t.tiempo_id\n",
    "        WHERE t.tiempo_id IS NULL\n",
    "    \"\"\"),\n",
    "    (\"Envíos con proveedores inexistentes en 'proveedores'\", \"\"\"\n",
    "        SELECT e.envio_id, e.proveedor_id FROM envios e\n",
    "        LEFT JOIN proveedores p ON e.proveedor_id = p.proveedor_id\n",
    "        WHERE p.proveedor_id IS NULL\n",
    "    \"\"\")\n",
    "]"
   ],
   "id": "80fec82e4b6a94ee",
   "outputs": [],
   "execution_count": 53
  },
  {
   "metadata": {
    "ExecuteTime": {
     "end_time": "2025-04-01T06:40:12.498052Z",
     "start_time": "2025-04-01T06:40:11.919687Z"
    }
   },
   "cell_type": "code",
   "source": "check_foreign_keys(foreign_key_checks)",
   "id": "a327527e6827ef64",
   "outputs": [
    {
     "name": "stdout",
     "output_type": "stream",
     "text": [
      "\n",
      "Verificación de Claves Foráneas:\n",
      "Ventas sin fecha en 'tiempo' - Registros encontrados: 0\n",
      "No se encontraron registros relevantes.\n",
      "----------------------------------------\n",
      "Ventas con productos inexistentes en 'productos' - Registros encontrados: 0\n",
      "No se encontraron registros relevantes.\n",
      "----------------------------------------\n",
      "Ventas con clientes inexistentes en 'clientes' - Registros encontrados: 0\n",
      "No se encontraron registros relevantes.\n",
      "----------------------------------------\n",
      "Envíos con ventas inexistentes en 'ventas' - Registros encontrados: 0\n",
      "No se encontraron registros relevantes.\n",
      "----------------------------------------\n",
      "Envíos sin fecha en 'tiempo' - Registros encontrados: 0\n",
      "No se encontraron registros relevantes.\n",
      "----------------------------------------\n",
      "Envíos con proveedores inexistentes en 'proveedores' - Registros encontrados: 0\n",
      "No se encontraron registros relevantes.\n",
      "----------------------------------------\n"
     ]
    }
   ],
   "execution_count": 54
  },
  {
   "metadata": {
    "ExecuteTime": {
     "end_time": "2025-04-01T06:40:12.529231Z",
     "start_time": "2025-04-01T06:40:12.514778Z"
    }
   },
   "cell_type": "code",
   "source": "",
   "id": "44da2628f21d1194",
   "outputs": [],
   "execution_count": null
  }
 ],
 "metadata": {
  "kernelspec": {
   "display_name": "Python 3 (ipykernel)",
   "language": "python",
   "name": "python3"
  },
  "language_info": {
   "codemirror_mode": {
    "name": "ipython",
    "version": 3
   },
   "file_extension": ".py",
   "mimetype": "text/x-python",
   "name": "python",
   "nbconvert_exporter": "python",
   "pygments_lexer": "ipython3",
   "version": "3.10.6"
  }
 },
 "nbformat": 4,
 "nbformat_minor": 5
}
